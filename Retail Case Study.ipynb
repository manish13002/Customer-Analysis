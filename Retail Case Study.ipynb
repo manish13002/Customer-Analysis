{
 "cells": [
  {
   "cell_type": "code",
   "execution_count": 138,
   "metadata": {},
   "outputs": [],
   "source": [
    "import numpy as np\n",
    "import pandas as pd\n",
    "import seaborn as sns\n",
    "from matplotlib import pyplot as plt\n",
    "from datetime import datetime as dt\n"
   ]
  },
  {
   "cell_type": "code",
   "execution_count": 2,
   "metadata": {},
   "outputs": [],
   "source": [
    "#Importing Files\n",
    "file = 'D:\\Data Science\\Python\\Case Study\\Case Study 1 - Retail'\n",
    "file = file.replace('\\\\','/')\n",
    "customer = pd.read_csv(file + '/Customer.csv')\n",
    "transactions = pd.read_csv(file + '/Transactions.csv')\n",
    "prod_cat = pd.read_csv(file + '/prod_cat_info.csv')"
   ]
  },
  {
   "cell_type": "code",
   "execution_count": 3,
   "metadata": {},
   "outputs": [
    {
     "data": {
      "text/html": [
       "<div>\n",
       "<style scoped>\n",
       "    .dataframe tbody tr th:only-of-type {\n",
       "        vertical-align: middle;\n",
       "    }\n",
       "\n",
       "    .dataframe tbody tr th {\n",
       "        vertical-align: top;\n",
       "    }\n",
       "\n",
       "    .dataframe thead th {\n",
       "        text-align: right;\n",
       "    }\n",
       "</style>\n",
       "<table border=\"1\" class=\"dataframe\">\n",
       "  <thead>\n",
       "    <tr style=\"text-align: right;\">\n",
       "      <th></th>\n",
       "      <th>transaction_id</th>\n",
       "      <th>cust_id</th>\n",
       "      <th>tran_date</th>\n",
       "      <th>prod_subcat_code</th>\n",
       "      <th>prod_cat_code</th>\n",
       "      <th>Qty</th>\n",
       "      <th>Rate</th>\n",
       "      <th>Tax</th>\n",
       "      <th>total_amt</th>\n",
       "      <th>Store_type</th>\n",
       "      <th>customer_Id</th>\n",
       "      <th>DOB</th>\n",
       "      <th>Gender</th>\n",
       "      <th>city_code</th>\n",
       "    </tr>\n",
       "  </thead>\n",
       "  <tbody>\n",
       "    <tr>\n",
       "      <th>0</th>\n",
       "      <td>80712190438</td>\n",
       "      <td>270351</td>\n",
       "      <td>28-02-2014</td>\n",
       "      <td>1</td>\n",
       "      <td>1</td>\n",
       "      <td>-5</td>\n",
       "      <td>-772</td>\n",
       "      <td>405.300</td>\n",
       "      <td>-4265.300</td>\n",
       "      <td>e-Shop</td>\n",
       "      <td>270351</td>\n",
       "      <td>26-09-1981</td>\n",
       "      <td>M</td>\n",
       "      <td>5.0</td>\n",
       "    </tr>\n",
       "    <tr>\n",
       "      <th>1</th>\n",
       "      <td>80712190438</td>\n",
       "      <td>270351</td>\n",
       "      <td>20-02-2014</td>\n",
       "      <td>1</td>\n",
       "      <td>1</td>\n",
       "      <td>5</td>\n",
       "      <td>772</td>\n",
       "      <td>405.300</td>\n",
       "      <td>4265.300</td>\n",
       "      <td>e-Shop</td>\n",
       "      <td>270351</td>\n",
       "      <td>26-09-1981</td>\n",
       "      <td>M</td>\n",
       "      <td>5.0</td>\n",
       "    </tr>\n",
       "    <tr>\n",
       "      <th>2</th>\n",
       "      <td>36957441426</td>\n",
       "      <td>270351</td>\n",
       "      <td>16-09-2013</td>\n",
       "      <td>3</td>\n",
       "      <td>2</td>\n",
       "      <td>3</td>\n",
       "      <td>361</td>\n",
       "      <td>113.715</td>\n",
       "      <td>1196.715</td>\n",
       "      <td>Flagship store</td>\n",
       "      <td>270351</td>\n",
       "      <td>26-09-1981</td>\n",
       "      <td>M</td>\n",
       "      <td>5.0</td>\n",
       "    </tr>\n",
       "    <tr>\n",
       "      <th>3</th>\n",
       "      <td>12236277258</td>\n",
       "      <td>270351</td>\n",
       "      <td>18-03-2013</td>\n",
       "      <td>8</td>\n",
       "      <td>3</td>\n",
       "      <td>3</td>\n",
       "      <td>1030</td>\n",
       "      <td>324.450</td>\n",
       "      <td>3414.450</td>\n",
       "      <td>e-Shop</td>\n",
       "      <td>270351</td>\n",
       "      <td>26-09-1981</td>\n",
       "      <td>M</td>\n",
       "      <td>5.0</td>\n",
       "    </tr>\n",
       "    <tr>\n",
       "      <th>4</th>\n",
       "      <td>13181563739</td>\n",
       "      <td>270351</td>\n",
       "      <td>13-12-2011</td>\n",
       "      <td>6</td>\n",
       "      <td>5</td>\n",
       "      <td>1</td>\n",
       "      <td>1048</td>\n",
       "      <td>110.040</td>\n",
       "      <td>1158.040</td>\n",
       "      <td>e-Shop</td>\n",
       "      <td>270351</td>\n",
       "      <td>26-09-1981</td>\n",
       "      <td>M</td>\n",
       "      <td>5.0</td>\n",
       "    </tr>\n",
       "  </tbody>\n",
       "</table>\n",
       "</div>"
      ],
      "text/plain": [
       "   transaction_id  cust_id   tran_date  prod_subcat_code  prod_cat_code  Qty  \\\n",
       "0     80712190438   270351  28-02-2014                 1              1   -5   \n",
       "1     80712190438   270351  20-02-2014                 1              1    5   \n",
       "2     36957441426   270351  16-09-2013                 3              2    3   \n",
       "3     12236277258   270351  18-03-2013                 8              3    3   \n",
       "4     13181563739   270351  13-12-2011                 6              5    1   \n",
       "\n",
       "   Rate      Tax  total_amt      Store_type  customer_Id         DOB Gender  \\\n",
       "0  -772  405.300  -4265.300          e-Shop       270351  26-09-1981      M   \n",
       "1   772  405.300   4265.300          e-Shop       270351  26-09-1981      M   \n",
       "2   361  113.715   1196.715  Flagship store       270351  26-09-1981      M   \n",
       "3  1030  324.450   3414.450          e-Shop       270351  26-09-1981      M   \n",
       "4  1048  110.040   1158.040          e-Shop       270351  26-09-1981      M   \n",
       "\n",
       "   city_code  \n",
       "0        5.0  \n",
       "1        5.0  \n",
       "2        5.0  \n",
       "3        5.0  \n",
       "4        5.0  "
      ]
     },
     "execution_count": 3,
     "metadata": {},
     "output_type": "execute_result"
    }
   ],
   "source": [
    "#Merging Files\n",
    "c1 = pd.merge(left = transactions, right = customer , how = 'inner', left_on= 'cust_id' , right_on = 'customer_Id' )\n",
    "c1.head()"
   ]
  },
  {
   "cell_type": "markdown",
   "metadata": {},
   "source": [
    "#### Q1 Final Dataframe\n"
   ]
  },
  {
   "cell_type": "code",
   "execution_count": 4,
   "metadata": {},
   "outputs": [
    {
     "data": {
      "text/html": [
       "<div>\n",
       "<style scoped>\n",
       "    .dataframe tbody tr th:only-of-type {\n",
       "        vertical-align: middle;\n",
       "    }\n",
       "\n",
       "    .dataframe tbody tr th {\n",
       "        vertical-align: top;\n",
       "    }\n",
       "\n",
       "    .dataframe thead th {\n",
       "        text-align: right;\n",
       "    }\n",
       "</style>\n",
       "<table border=\"1\" class=\"dataframe\">\n",
       "  <thead>\n",
       "    <tr style=\"text-align: right;\">\n",
       "      <th></th>\n",
       "      <th>transaction_id</th>\n",
       "      <th>cust_id</th>\n",
       "      <th>tran_date</th>\n",
       "      <th>prod_subcat_code</th>\n",
       "      <th>prod_cat_code</th>\n",
       "      <th>Qty</th>\n",
       "      <th>Rate</th>\n",
       "      <th>Tax</th>\n",
       "      <th>total_amt</th>\n",
       "      <th>Store_type</th>\n",
       "      <th>customer_Id</th>\n",
       "      <th>DOB</th>\n",
       "      <th>Gender</th>\n",
       "      <th>city_code</th>\n",
       "      <th>prod_cat</th>\n",
       "      <th>prod_sub_cat_code</th>\n",
       "      <th>prod_subcat</th>\n",
       "    </tr>\n",
       "  </thead>\n",
       "  <tbody>\n",
       "    <tr>\n",
       "      <th>0</th>\n",
       "      <td>80712190438</td>\n",
       "      <td>270351</td>\n",
       "      <td>28-02-2014</td>\n",
       "      <td>1</td>\n",
       "      <td>1</td>\n",
       "      <td>-5</td>\n",
       "      <td>-772</td>\n",
       "      <td>405.300</td>\n",
       "      <td>-4265.300</td>\n",
       "      <td>e-Shop</td>\n",
       "      <td>270351</td>\n",
       "      <td>26-09-1981</td>\n",
       "      <td>M</td>\n",
       "      <td>5.0</td>\n",
       "      <td>Clothing</td>\n",
       "      <td>1</td>\n",
       "      <td>Women</td>\n",
       "    </tr>\n",
       "    <tr>\n",
       "      <th>1</th>\n",
       "      <td>80712190438</td>\n",
       "      <td>270351</td>\n",
       "      <td>20-02-2014</td>\n",
       "      <td>1</td>\n",
       "      <td>1</td>\n",
       "      <td>5</td>\n",
       "      <td>772</td>\n",
       "      <td>405.300</td>\n",
       "      <td>4265.300</td>\n",
       "      <td>e-Shop</td>\n",
       "      <td>270351</td>\n",
       "      <td>26-09-1981</td>\n",
       "      <td>M</td>\n",
       "      <td>5.0</td>\n",
       "      <td>Clothing</td>\n",
       "      <td>1</td>\n",
       "      <td>Women</td>\n",
       "    </tr>\n",
       "    <tr>\n",
       "      <th>2</th>\n",
       "      <td>18505840838</td>\n",
       "      <td>271509</td>\n",
       "      <td>16-12-2013</td>\n",
       "      <td>1</td>\n",
       "      <td>1</td>\n",
       "      <td>3</td>\n",
       "      <td>1229</td>\n",
       "      <td>387.135</td>\n",
       "      <td>4074.135</td>\n",
       "      <td>Flagship store</td>\n",
       "      <td>271509</td>\n",
       "      <td>08-06-1981</td>\n",
       "      <td>M</td>\n",
       "      <td>3.0</td>\n",
       "      <td>Clothing</td>\n",
       "      <td>1</td>\n",
       "      <td>Women</td>\n",
       "    </tr>\n",
       "    <tr>\n",
       "      <th>3</th>\n",
       "      <td>92814475704</td>\n",
       "      <td>267750</td>\n",
       "      <td>16-08-2013</td>\n",
       "      <td>1</td>\n",
       "      <td>1</td>\n",
       "      <td>-4</td>\n",
       "      <td>-284</td>\n",
       "      <td>119.280</td>\n",
       "      <td>-1255.280</td>\n",
       "      <td>Flagship store</td>\n",
       "      <td>267750</td>\n",
       "      <td>13-10-1986</td>\n",
       "      <td>M</td>\n",
       "      <td>1.0</td>\n",
       "      <td>Clothing</td>\n",
       "      <td>1</td>\n",
       "      <td>Women</td>\n",
       "    </tr>\n",
       "    <tr>\n",
       "      <th>4</th>\n",
       "      <td>92814475704</td>\n",
       "      <td>267750</td>\n",
       "      <td>7/8/2013</td>\n",
       "      <td>1</td>\n",
       "      <td>1</td>\n",
       "      <td>4</td>\n",
       "      <td>284</td>\n",
       "      <td>119.280</td>\n",
       "      <td>1255.280</td>\n",
       "      <td>Flagship store</td>\n",
       "      <td>267750</td>\n",
       "      <td>13-10-1986</td>\n",
       "      <td>M</td>\n",
       "      <td>1.0</td>\n",
       "      <td>Clothing</td>\n",
       "      <td>1</td>\n",
       "      <td>Women</td>\n",
       "    </tr>\n",
       "  </tbody>\n",
       "</table>\n",
       "</div>"
      ],
      "text/plain": [
       "   transaction_id  cust_id   tran_date  prod_subcat_code  prod_cat_code  Qty  \\\n",
       "0     80712190438   270351  28-02-2014                 1              1   -5   \n",
       "1     80712190438   270351  20-02-2014                 1              1    5   \n",
       "2     18505840838   271509  16-12-2013                 1              1    3   \n",
       "3     92814475704   267750  16-08-2013                 1              1   -4   \n",
       "4     92814475704   267750    7/8/2013                 1              1    4   \n",
       "\n",
       "   Rate      Tax  total_amt      Store_type  customer_Id         DOB Gender  \\\n",
       "0  -772  405.300  -4265.300          e-Shop       270351  26-09-1981      M   \n",
       "1   772  405.300   4265.300          e-Shop       270351  26-09-1981      M   \n",
       "2  1229  387.135   4074.135  Flagship store       271509  08-06-1981      M   \n",
       "3  -284  119.280  -1255.280  Flagship store       267750  13-10-1986      M   \n",
       "4   284  119.280   1255.280  Flagship store       267750  13-10-1986      M   \n",
       "\n",
       "   city_code  prod_cat  prod_sub_cat_code prod_subcat  \n",
       "0        5.0  Clothing                  1       Women  \n",
       "1        5.0  Clothing                  1       Women  \n",
       "2        3.0  Clothing                  1       Women  \n",
       "3        1.0  Clothing                  1       Women  \n",
       "4        1.0  Clothing                  1       Women  "
      ]
     },
     "execution_count": 4,
     "metadata": {},
     "output_type": "execute_result"
    }
   ],
   "source": [
    "Customer_Final = pd.merge(left = c1 , right = prod_cat, how = 'inner', left_on = ['prod_cat_code','prod_subcat_code'] ,\n",
    "                          right_on= ['prod_cat_code','prod_sub_cat_code'])\n",
    "Customer_Final.head()"
   ]
  },
  {
   "cell_type": "code",
   "execution_count": 5,
   "metadata": {},
   "outputs": [],
   "source": [
    "#Since A few columns like CustID, prod subcat code are repeated we drop them\n",
    "Customer_Final.drop(['cust_id','prod_subcat_code'],inplace = True, axis = 1)"
   ]
  },
  {
   "cell_type": "markdown",
   "metadata": {},
   "source": [
    "#### Q2 Summary Report"
   ]
  },
  {
   "cell_type": "code",
   "execution_count": 6,
   "metadata": {},
   "outputs": [
    {
     "name": "stdout",
     "output_type": "stream",
     "text": [
      "<class 'pandas.core.frame.DataFrame'>\n",
      "Int64Index: 23053 entries, 0 to 23052\n",
      "Data columns (total 15 columns):\n",
      " #   Column             Non-Null Count  Dtype  \n",
      "---  ------             --------------  -----  \n",
      " 0   transaction_id     23053 non-null  int64  \n",
      " 1   tran_date          23053 non-null  object \n",
      " 2   prod_cat_code      23053 non-null  int64  \n",
      " 3   Qty                23053 non-null  int64  \n",
      " 4   Rate               23053 non-null  int64  \n",
      " 5   Tax                23053 non-null  float64\n",
      " 6   total_amt          23053 non-null  float64\n",
      " 7   Store_type         23053 non-null  object \n",
      " 8   customer_Id        23053 non-null  int64  \n",
      " 9   DOB                23053 non-null  object \n",
      " 10  Gender             23044 non-null  object \n",
      " 11  city_code          23045 non-null  float64\n",
      " 12  prod_cat           23053 non-null  object \n",
      " 13  prod_sub_cat_code  23053 non-null  int64  \n",
      " 14  prod_subcat        23053 non-null  object \n",
      "dtypes: float64(3), int64(6), object(6)\n",
      "memory usage: 2.8+ MB\n"
     ]
    }
   ],
   "source": [
    "#a Column Name and Data type\n",
    "Customer_Final.info()"
   ]
  },
  {
   "cell_type": "code",
   "execution_count": 7,
   "metadata": {},
   "outputs": [
    {
     "name": "stdout",
     "output_type": "stream",
     "text": [
      "<class 'pandas.core.frame.DataFrame'>\n",
      "Int64Index: 23053 entries, 0 to 23052\n",
      "Data columns (total 15 columns):\n",
      " #   Column             Non-Null Count  Dtype  \n",
      "---  ------             --------------  -----  \n",
      " 0   transaction_id     23053 non-null  object \n",
      " 1   tran_date          23053 non-null  object \n",
      " 2   prod_cat_code      23053 non-null  object \n",
      " 3   Qty                23053 non-null  int64  \n",
      " 4   Rate               23053 non-null  int64  \n",
      " 5   Tax                23053 non-null  float64\n",
      " 6   total_amt          23053 non-null  float64\n",
      " 7   Store_type         23053 non-null  object \n",
      " 8   customer_Id        23053 non-null  object \n",
      " 9   DOB                23053 non-null  object \n",
      " 10  Gender             23044 non-null  object \n",
      " 11  city_code          23045 non-null  object \n",
      " 12  prod_cat           23053 non-null  object \n",
      " 13  prod_sub_cat_code  23053 non-null  object \n",
      " 14  prod_subcat        23053 non-null  object \n",
      "dtypes: float64(2), int64(2), object(11)\n",
      "memory usage: 2.8+ MB\n"
     ]
    }
   ],
   "source": [
    "# WE convert Transaction ID, prod_cat_code, customer_Id, prod_sub_cat_code, city_code to Object Type as they are not needed for Continous Variable\n",
    "Customer_Final[['transaction_id', 'prod_cat_code', 'customer_Id', 'prod_sub_cat_code','city_code']] = Customer_Final[['transaction_id',\n",
    "                'prod_cat_code', 'customer_Id', 'prod_sub_cat_code','city_code']].astype(object)\n",
    "Customer_Final.info()"
   ]
  },
  {
   "cell_type": "code",
   "execution_count": 8,
   "metadata": {},
   "outputs": [],
   "source": [
    "#Converting DOB , tran_date to Date time Format\n",
    "Customer_Final.DOB = pd.to_datetime(Customer_Final.DOB, format = '%d-%m-%Y')\n",
    "Customer_Final.tran_date = pd.to_datetime(Customer_Final.tran_date)\n"
   ]
  },
  {
   "cell_type": "code",
   "execution_count": 9,
   "metadata": {},
   "outputs": [
    {
     "name": "stdout",
     "output_type": "stream",
     "text": [
      "<class 'pandas.core.frame.DataFrame'>\n",
      "Int64Index: 23036 entries, 0 to 23052\n",
      "Data columns (total 15 columns):\n",
      " #   Column             Non-Null Count  Dtype         \n",
      "---  ------             --------------  -----         \n",
      " 0   transaction_id     23036 non-null  object        \n",
      " 1   tran_date          23036 non-null  datetime64[ns]\n",
      " 2   prod_cat_code      23036 non-null  object        \n",
      " 3   Qty                23036 non-null  int64         \n",
      " 4   Rate               23036 non-null  int64         \n",
      " 5   Tax                23036 non-null  float64       \n",
      " 6   total_amt          23036 non-null  float64       \n",
      " 7   Store_type         23036 non-null  object        \n",
      " 8   customer_Id        23036 non-null  object        \n",
      " 9   DOB                23036 non-null  datetime64[ns]\n",
      " 10  Gender             23036 non-null  object        \n",
      " 11  city_code          23036 non-null  object        \n",
      " 12  prod_cat           23036 non-null  object        \n",
      " 13  prod_sub_cat_code  23036 non-null  object        \n",
      " 14  prod_subcat        23036 non-null  object        \n",
      "dtypes: datetime64[ns](2), float64(2), int64(2), object(9)\n",
      "memory usage: 2.8+ MB\n"
     ]
    }
   ],
   "source": [
    "#We have Missing Values in Gender and City_code Variables we can drop them\n",
    "Customer_Final.dropna(axis = 0, inplace= True)\n",
    "Customer_Final.info()"
   ]
  },
  {
   "cell_type": "code",
   "execution_count": 10,
   "metadata": {
    "scrolled": true
   },
   "outputs": [
    {
     "data": {
      "text/html": [
       "<div>\n",
       "<style scoped>\n",
       "    .dataframe tbody tr th:only-of-type {\n",
       "        vertical-align: middle;\n",
       "    }\n",
       "\n",
       "    .dataframe tbody tr th {\n",
       "        vertical-align: top;\n",
       "    }\n",
       "\n",
       "    .dataframe thead th {\n",
       "        text-align: right;\n",
       "    }\n",
       "</style>\n",
       "<table border=\"1\" class=\"dataframe\">\n",
       "  <thead>\n",
       "    <tr style=\"text-align: right;\">\n",
       "      <th></th>\n",
       "      <th>transaction_id</th>\n",
       "      <th>tran_date</th>\n",
       "      <th>prod_cat_code</th>\n",
       "      <th>Qty</th>\n",
       "      <th>Rate</th>\n",
       "      <th>Tax</th>\n",
       "      <th>total_amt</th>\n",
       "      <th>Store_type</th>\n",
       "      <th>customer_Id</th>\n",
       "      <th>DOB</th>\n",
       "      <th>Gender</th>\n",
       "      <th>city_code</th>\n",
       "      <th>prod_cat</th>\n",
       "      <th>prod_sub_cat_code</th>\n",
       "      <th>prod_subcat</th>\n",
       "    </tr>\n",
       "  </thead>\n",
       "  <tbody>\n",
       "    <tr>\n",
       "      <th>0</th>\n",
       "      <td>80712190438</td>\n",
       "      <td>2014-02-28</td>\n",
       "      <td>1</td>\n",
       "      <td>-5</td>\n",
       "      <td>-772</td>\n",
       "      <td>405.300</td>\n",
       "      <td>-4265.300</td>\n",
       "      <td>e-Shop</td>\n",
       "      <td>270351</td>\n",
       "      <td>1981-09-26</td>\n",
       "      <td>M</td>\n",
       "      <td>5</td>\n",
       "      <td>Clothing</td>\n",
       "      <td>1</td>\n",
       "      <td>Women</td>\n",
       "    </tr>\n",
       "    <tr>\n",
       "      <th>1</th>\n",
       "      <td>80712190438</td>\n",
       "      <td>2014-02-20</td>\n",
       "      <td>1</td>\n",
       "      <td>5</td>\n",
       "      <td>772</td>\n",
       "      <td>405.300</td>\n",
       "      <td>4265.300</td>\n",
       "      <td>e-Shop</td>\n",
       "      <td>270351</td>\n",
       "      <td>1981-09-26</td>\n",
       "      <td>M</td>\n",
       "      <td>5</td>\n",
       "      <td>Clothing</td>\n",
       "      <td>1</td>\n",
       "      <td>Women</td>\n",
       "    </tr>\n",
       "    <tr>\n",
       "      <th>2</th>\n",
       "      <td>18505840838</td>\n",
       "      <td>2013-12-16</td>\n",
       "      <td>1</td>\n",
       "      <td>3</td>\n",
       "      <td>1229</td>\n",
       "      <td>387.135</td>\n",
       "      <td>4074.135</td>\n",
       "      <td>Flagship store</td>\n",
       "      <td>271509</td>\n",
       "      <td>1981-06-08</td>\n",
       "      <td>M</td>\n",
       "      <td>3</td>\n",
       "      <td>Clothing</td>\n",
       "      <td>1</td>\n",
       "      <td>Women</td>\n",
       "    </tr>\n",
       "    <tr>\n",
       "      <th>3</th>\n",
       "      <td>92814475704</td>\n",
       "      <td>2013-08-16</td>\n",
       "      <td>1</td>\n",
       "      <td>-4</td>\n",
       "      <td>-284</td>\n",
       "      <td>119.280</td>\n",
       "      <td>-1255.280</td>\n",
       "      <td>Flagship store</td>\n",
       "      <td>267750</td>\n",
       "      <td>1986-10-13</td>\n",
       "      <td>M</td>\n",
       "      <td>1</td>\n",
       "      <td>Clothing</td>\n",
       "      <td>1</td>\n",
       "      <td>Women</td>\n",
       "    </tr>\n",
       "    <tr>\n",
       "      <th>4</th>\n",
       "      <td>92814475704</td>\n",
       "      <td>2013-07-08</td>\n",
       "      <td>1</td>\n",
       "      <td>4</td>\n",
       "      <td>284</td>\n",
       "      <td>119.280</td>\n",
       "      <td>1255.280</td>\n",
       "      <td>Flagship store</td>\n",
       "      <td>267750</td>\n",
       "      <td>1986-10-13</td>\n",
       "      <td>M</td>\n",
       "      <td>1</td>\n",
       "      <td>Clothing</td>\n",
       "      <td>1</td>\n",
       "      <td>Women</td>\n",
       "    </tr>\n",
       "  </tbody>\n",
       "</table>\n",
       "</div>"
      ],
      "text/plain": [
       "  transaction_id  tran_date prod_cat_code  Qty  Rate      Tax  total_amt  \\\n",
       "0    80712190438 2014-02-28             1   -5  -772  405.300  -4265.300   \n",
       "1    80712190438 2014-02-20             1    5   772  405.300   4265.300   \n",
       "2    18505840838 2013-12-16             1    3  1229  387.135   4074.135   \n",
       "3    92814475704 2013-08-16             1   -4  -284  119.280  -1255.280   \n",
       "4    92814475704 2013-07-08             1    4   284  119.280   1255.280   \n",
       "\n",
       "       Store_type customer_Id        DOB Gender city_code  prod_cat  \\\n",
       "0          e-Shop      270351 1981-09-26      M         5  Clothing   \n",
       "1          e-Shop      270351 1981-09-26      M         5  Clothing   \n",
       "2  Flagship store      271509 1981-06-08      M         3  Clothing   \n",
       "3  Flagship store      267750 1986-10-13      M         1  Clothing   \n",
       "4  Flagship store      267750 1986-10-13      M         1  Clothing   \n",
       "\n",
       "  prod_sub_cat_code prod_subcat  \n",
       "0                 1       Women  \n",
       "1                 1       Women  \n",
       "2                 1       Women  \n",
       "3                 1       Women  \n",
       "4                 1       Women  "
      ]
     },
     "execution_count": 10,
     "metadata": {},
     "output_type": "execute_result"
    }
   ],
   "source": [
    "#b Top Bottom observations\n",
    "Customer_Final.head()"
   ]
  },
  {
   "cell_type": "code",
   "execution_count": 11,
   "metadata": {},
   "outputs": [
    {
     "data": {
      "text/html": [
       "<div>\n",
       "<style scoped>\n",
       "    .dataframe tbody tr th:only-of-type {\n",
       "        vertical-align: middle;\n",
       "    }\n",
       "\n",
       "    .dataframe tbody tr th {\n",
       "        vertical-align: top;\n",
       "    }\n",
       "\n",
       "    .dataframe thead th {\n",
       "        text-align: right;\n",
       "    }\n",
       "</style>\n",
       "<table border=\"1\" class=\"dataframe\">\n",
       "  <thead>\n",
       "    <tr style=\"text-align: right;\">\n",
       "      <th></th>\n",
       "      <th>transaction_id</th>\n",
       "      <th>tran_date</th>\n",
       "      <th>prod_cat_code</th>\n",
       "      <th>Qty</th>\n",
       "      <th>Rate</th>\n",
       "      <th>Tax</th>\n",
       "      <th>total_amt</th>\n",
       "      <th>Store_type</th>\n",
       "      <th>customer_Id</th>\n",
       "      <th>DOB</th>\n",
       "      <th>Gender</th>\n",
       "      <th>city_code</th>\n",
       "      <th>prod_cat</th>\n",
       "      <th>prod_sub_cat_code</th>\n",
       "      <th>prod_subcat</th>\n",
       "    </tr>\n",
       "  </thead>\n",
       "  <tbody>\n",
       "    <tr>\n",
       "      <th>23048</th>\n",
       "      <td>7173864364</td>\n",
       "      <td>2011-09-04</td>\n",
       "      <td>4</td>\n",
       "      <td>5</td>\n",
       "      <td>788</td>\n",
       "      <td>413.70</td>\n",
       "      <td>4353.70</td>\n",
       "      <td>Flagship store</td>\n",
       "      <td>271157</td>\n",
       "      <td>1973-10-15</td>\n",
       "      <td>F</td>\n",
       "      <td>6</td>\n",
       "      <td>Bags</td>\n",
       "      <td>4</td>\n",
       "      <td>Women</td>\n",
       "    </tr>\n",
       "    <tr>\n",
       "      <th>23049</th>\n",
       "      <td>5618131425</td>\n",
       "      <td>2011-03-03</td>\n",
       "      <td>4</td>\n",
       "      <td>2</td>\n",
       "      <td>1150</td>\n",
       "      <td>241.50</td>\n",
       "      <td>2541.50</td>\n",
       "      <td>MBR</td>\n",
       "      <td>272010</td>\n",
       "      <td>1972-12-22</td>\n",
       "      <td>F</td>\n",
       "      <td>5</td>\n",
       "      <td>Bags</td>\n",
       "      <td>4</td>\n",
       "      <td>Women</td>\n",
       "    </tr>\n",
       "    <tr>\n",
       "      <th>23050</th>\n",
       "      <td>18727956164</td>\n",
       "      <td>2011-02-23</td>\n",
       "      <td>4</td>\n",
       "      <td>5</td>\n",
       "      <td>668</td>\n",
       "      <td>350.70</td>\n",
       "      <td>3690.70</td>\n",
       "      <td>e-Shop</td>\n",
       "      <td>267161</td>\n",
       "      <td>1981-05-08</td>\n",
       "      <td>M</td>\n",
       "      <td>9</td>\n",
       "      <td>Bags</td>\n",
       "      <td>4</td>\n",
       "      <td>Women</td>\n",
       "    </tr>\n",
       "    <tr>\n",
       "      <th>23051</th>\n",
       "      <td>60416814232</td>\n",
       "      <td>2011-02-18</td>\n",
       "      <td>4</td>\n",
       "      <td>4</td>\n",
       "      <td>202</td>\n",
       "      <td>84.84</td>\n",
       "      <td>892.84</td>\n",
       "      <td>Flagship store</td>\n",
       "      <td>273281</td>\n",
       "      <td>1988-12-14</td>\n",
       "      <td>F</td>\n",
       "      <td>9</td>\n",
       "      <td>Bags</td>\n",
       "      <td>4</td>\n",
       "      <td>Women</td>\n",
       "    </tr>\n",
       "    <tr>\n",
       "      <th>23052</th>\n",
       "      <td>83245680995</td>\n",
       "      <td>2011-01-26</td>\n",
       "      <td>4</td>\n",
       "      <td>4</td>\n",
       "      <td>1477</td>\n",
       "      <td>620.34</td>\n",
       "      <td>6528.34</td>\n",
       "      <td>e-Shop</td>\n",
       "      <td>273723</td>\n",
       "      <td>1984-01-21</td>\n",
       "      <td>F</td>\n",
       "      <td>4</td>\n",
       "      <td>Bags</td>\n",
       "      <td>4</td>\n",
       "      <td>Women</td>\n",
       "    </tr>\n",
       "  </tbody>\n",
       "</table>\n",
       "</div>"
      ],
      "text/plain": [
       "      transaction_id  tran_date prod_cat_code  Qty  Rate     Tax  total_amt  \\\n",
       "23048     7173864364 2011-09-04             4    5   788  413.70    4353.70   \n",
       "23049     5618131425 2011-03-03             4    2  1150  241.50    2541.50   \n",
       "23050    18727956164 2011-02-23             4    5   668  350.70    3690.70   \n",
       "23051    60416814232 2011-02-18             4    4   202   84.84     892.84   \n",
       "23052    83245680995 2011-01-26             4    4  1477  620.34    6528.34   \n",
       "\n",
       "           Store_type customer_Id        DOB Gender city_code prod_cat  \\\n",
       "23048  Flagship store      271157 1973-10-15      F         6     Bags   \n",
       "23049             MBR      272010 1972-12-22      F         5     Bags   \n",
       "23050          e-Shop      267161 1981-05-08      M         9     Bags   \n",
       "23051  Flagship store      273281 1988-12-14      F         9     Bags   \n",
       "23052          e-Shop      273723 1984-01-21      F         4     Bags   \n",
       "\n",
       "      prod_sub_cat_code prod_subcat  \n",
       "23048                 4       Women  \n",
       "23049                 4       Women  \n",
       "23050                 4       Women  \n",
       "23051                 4       Women  \n",
       "23052                 4       Women  "
      ]
     },
     "execution_count": 11,
     "metadata": {},
     "output_type": "execute_result"
    }
   ],
   "source": [
    "# Bottom Rows\n",
    "Customer_Final.tail()"
   ]
  },
  {
   "cell_type": "code",
   "execution_count": 12,
   "metadata": {},
   "outputs": [
    {
     "data": {
      "text/html": [
       "<div>\n",
       "<style scoped>\n",
       "    .dataframe tbody tr th:only-of-type {\n",
       "        vertical-align: middle;\n",
       "    }\n",
       "\n",
       "    .dataframe tbody tr th {\n",
       "        vertical-align: top;\n",
       "    }\n",
       "\n",
       "    .dataframe thead th {\n",
       "        text-align: right;\n",
       "    }\n",
       "</style>\n",
       "<table border=\"1\" class=\"dataframe\">\n",
       "  <thead>\n",
       "    <tr style=\"text-align: right;\">\n",
       "      <th></th>\n",
       "      <th>Qty</th>\n",
       "      <th>Rate</th>\n",
       "      <th>Tax</th>\n",
       "      <th>total_amt</th>\n",
       "    </tr>\n",
       "  </thead>\n",
       "  <tbody>\n",
       "    <tr>\n",
       "      <th>Min</th>\n",
       "      <td>-5.0</td>\n",
       "      <td>-1499.0</td>\n",
       "      <td>7.3500</td>\n",
       "      <td>-8270.925</td>\n",
       "    </tr>\n",
       "    <tr>\n",
       "      <th>Max</th>\n",
       "      <td>5.0</td>\n",
       "      <td>1500.0</td>\n",
       "      <td>787.5000</td>\n",
       "      <td>8287.500</td>\n",
       "    </tr>\n",
       "    <tr>\n",
       "      <th>Median</th>\n",
       "      <td>3.0</td>\n",
       "      <td>710.0</td>\n",
       "      <td>199.0800</td>\n",
       "      <td>1754.740</td>\n",
       "    </tr>\n",
       "    <tr>\n",
       "      <th>Q1</th>\n",
       "      <td>1.0</td>\n",
       "      <td>312.0</td>\n",
       "      <td>98.2800</td>\n",
       "      <td>762.450</td>\n",
       "    </tr>\n",
       "    <tr>\n",
       "      <th>Q3</th>\n",
       "      <td>4.0</td>\n",
       "      <td>1109.0</td>\n",
       "      <td>365.7675</td>\n",
       "      <td>3569.150</td>\n",
       "    </tr>\n",
       "  </tbody>\n",
       "</table>\n",
       "</div>"
      ],
      "text/plain": [
       "        Qty    Rate       Tax  total_amt\n",
       "Min    -5.0 -1499.0    7.3500  -8270.925\n",
       "Max     5.0  1500.0  787.5000   8287.500\n",
       "Median  3.0   710.0  199.0800   1754.740\n",
       "Q1      1.0   312.0   98.2800    762.450\n",
       "Q3      4.0  1109.0  365.7675   3569.150"
      ]
     },
     "execution_count": 12,
     "metadata": {},
     "output_type": "execute_result"
    }
   ],
   "source": [
    "#C Five point Summary Continous Variables \n",
    "def func(x):\n",
    "    return pd.Series([x.min(), x.max(), x.median(), x.quantile(0.25), x.quantile(0.75)],\n",
    "                     index = ['Min','Max','Median','Q1','Q3'])\n",
    "Cont_data = Customer_Final.select_dtypes(['int64','float64'])\n",
    "Cont_data.apply(func)"
   ]
  },
  {
   "cell_type": "code",
   "execution_count": 13,
   "metadata": {},
   "outputs": [
    {
     "data": {
      "text/plain": [
       "Store_type      4\n",
       "prod_cat        6\n",
       "prod_subcat    18\n",
       "Gender          2\n",
       "dtype: int64"
      ]
     },
     "execution_count": 13,
     "metadata": {},
     "output_type": "execute_result"
    }
   ],
   "source": [
    "#d Frequency table Categorical Variable\n",
    "cat_data = Customer_Final[['Store_type','prod_cat','prod_subcat','Gender']]\n",
    "cat_data.nunique()"
   ]
  },
  {
   "cell_type": "markdown",
   "metadata": {},
   "source": [
    "#### Q3 Histogram and Frequency Graph"
   ]
  },
  {
   "cell_type": "code",
   "execution_count": 14,
   "metadata": {},
   "outputs": [
    {
     "data": {
      "image/png": "[encoded data removed]",
      "text/plain": [
       "<Figure size 432x288 with 1 Axes>"
      ]
     },
     "metadata": {
      "needs_background": "light"
     },
     "output_type": "display_data"
    },
    {
     "data": {
      "image/png": "[encoded data removed]",
      "text/plain": [
       "<Figure size 432x288 with 1 Axes>"
      ]
     },
     "metadata": {
      "needs_background": "light"
     },
     "output_type": "display_data"
    },
    {
     "data": {
      "image/png": "[encoded data removed]",
      "text/plain": [
       "<Figure size 432x288 with 1 Axes>"
      ]
     },
     "metadata": {
      "needs_background": "light"
     },
     "output_type": "display_data"
    },
    {
     "data": {
      "image/png": "[encoded data removed]",
      "text/plain": [
       "<Figure size 432x288 with 1 Axes>"
      ]
     },
     "metadata": {
      "needs_background": "light"
     },
     "output_type": "display_data"
    }
   ],
   "source": [
    "# Histograms\n",
    "for i in Cont_data.columns:\n",
    "    Cont_data[i].plot(kind = 'hist')\n",
    "    plt.title(i)\n",
    "    plt.show()"
   ]
  },
  {
   "cell_type": "code",
   "execution_count": 15,
   "metadata": {
    "scrolled": true
   },
   "outputs": [
    {
     "data": {
      "image/png": "[encoded data removed]",
      "text/plain": [
       "<Figure size 432x288 with 1 Axes>"
      ]
     },
     "metadata": {
      "needs_background": "light"
     },
     "output_type": "display_data"
    },
    {
     "data": {
      "image/png": "[encoded data removed]",
      "text/plain": [
       "<Figure size 432x288 with 1 Axes>"
      ]
     },
     "metadata": {
      "needs_background": "light"
     },
     "output_type": "display_data"
    },
    {
     "data": {
      "image/png": "[encoded data removed]",
      "text/plain": [
       "<Figure size 432x288 with 1 Axes>"
      ]
     },
     "metadata": {
      "needs_background": "light"
     },
     "output_type": "display_data"
    },
    {
     "data": {
      "image/png": "[encoded data removed]",
      "text/plain": [
       "<Figure size 432x288 with 1 Axes>"
      ]
     },
     "metadata": {
      "needs_background": "light"
     },
     "output_type": "display_data"
    }
   ],
   "source": [
    "# Frequency Bars\n",
    "for r in cat_data.columns:\n",
    "    cat_data[r].value_counts().plot(kind = 'bar')\n",
    "    plt.title(r)\n",
    "    plt.show()"
   ]
  },
  {
   "cell_type": "markdown",
   "metadata": {},
   "source": [
    "#### Q4 "
   ]
  },
  {
   "cell_type": "code",
   "execution_count": 16,
   "metadata": {},
   "outputs": [
    {
     "data": {
      "text/plain": [
       "Timedelta('1430 days 00:00:00')"
      ]
     },
     "execution_count": 16,
     "metadata": {},
     "output_type": "execute_result"
    }
   ],
   "source": [
    "#a Time Period\n",
    "Customer_Final.tran_date.max() - Customer_Final.tran_date.min()"
   ]
  },
  {
   "cell_type": "code",
   "execution_count": 17,
   "metadata": {},
   "outputs": [
    {
     "data": {
      "text/plain": [
       "2176"
      ]
     },
     "execution_count": 17,
     "metadata": {},
     "output_type": "execute_result"
    }
   ],
   "source": [
    "#b Count where amount is negative\n",
    "Customer_Final[Customer_Final.total_amt < 0].shape[0]"
   ]
  },
  {
   "cell_type": "markdown",
   "metadata": {},
   "source": [
    "#### Q5 Popular Categories"
   ]
  },
  {
   "cell_type": "code",
   "execution_count": 18,
   "metadata": {},
   "outputs": [
    {
     "name": "stdout",
     "output_type": "stream",
     "text": [
      "Popular Categories Among Males : \n",
      " prod_cat\n",
      "Books               3115\n",
      "Electronics         2568\n",
      "Home and kitchen    2132\n",
      "Name: Qty, dtype: int64\n"
     ]
    }
   ],
   "source": [
    "#Popular Category Among Males\n",
    "p1 = Customer_Final[Customer_Final.Gender == 'M'].groupby('prod_cat').Qty.count().sort_values(ascending = False)\n",
    "print('Popular Categories Among Males : \\n', p1[0:3])"
   ]
  },
  {
   "cell_type": "code",
   "execution_count": 19,
   "metadata": {},
   "outputs": [
    {
     "name": "stdout",
     "output_type": "stream",
     "text": [
      "Popular Categories Among Females : \n",
      " prod_cat\n",
      "Books               2949\n",
      "Electronics         2326\n",
      "Home and kitchen    1994\n",
      "Name: Qty, dtype: int64\n"
     ]
    }
   ],
   "source": [
    "#Popular Category Among Females\n",
    "p1 = Customer_Final[Customer_Final.Gender == 'F'].groupby('prod_cat').Qty.count().sort_values(ascending = False)\n",
    "print('Popular Categories Among Females : \\n', p1[0:3])"
   ]
  },
  {
   "cell_type": "markdown",
   "metadata": {},
   "source": [
    "#### Q6 Max Customer City"
   ]
  },
  {
   "cell_type": "code",
   "execution_count": 76,
   "metadata": {},
   "outputs": [
    {
     "name": "stdout",
     "output_type": "stream",
     "text": [
      "Max Customer are from City \n",
      " city_code\n",
      "3.0    576\n",
      "Name: customer_Id, dtype: int64\n"
     ]
    }
   ],
   "source": [
    "c2 = Customer_Final.drop_duplicates(['city_code','customer_Id'])\n",
    "c3 = c2.groupby('city_code').customer_Id.count().sort_values(ascending = False)\n",
    "print('Max Customer are from City \\n',c3.iloc[0:1])"
   ]
  },
  {
   "cell_type": "code",
   "execution_count": 84,
   "metadata": {},
   "outputs": [
    {
     "name": "stdout",
     "output_type": "stream",
     "text": [
      "Percentage of Customers From City with Max Customers =  10.47\n"
     ]
    }
   ],
   "source": [
    "print('Percentage of Customers From City with Max Customers = ',((c3.iloc[0]/c3.sum())*100).round(2))"
   ]
  },
  {
   "cell_type": "markdown",
   "metadata": {},
   "source": [
    "#### Q7 Store Type That Sells Max By Value and Quantity"
   ]
  },
  {
   "cell_type": "code",
   "execution_count": 92,
   "metadata": {},
   "outputs": [
    {
     "name": "stdout",
     "output_type": "stream",
     "text": [
      "Store that Sells Max Products by Quantity \n",
      " Store_type\n",
      "e-Shop    25426\n",
      "Name: Qty, dtype: int64\n"
     ]
    }
   ],
   "source": [
    "print('Store that Sells Max Products by Quantity \\n',Customer_Final[(Customer_Final.total_amt>0) & \n",
    "    (Customer_Final.Qty>0)].groupby('Store_type').Qty.sum().sort_values(ascending = False).head(1))"
   ]
  },
  {
   "cell_type": "code",
   "execution_count": 95,
   "metadata": {},
   "outputs": [
    {
     "name": "stdout",
     "output_type": "stream",
     "text": [
      "Store that Sells Max Products by Quantity \n",
      " Store_type\n",
      "e-Shop    22180313.61\n",
      "Name: total_amt, dtype: float64\n"
     ]
    }
   ],
   "source": [
    "print('Store that Sells Max Products by Quantity \\n',Customer_Final[(Customer_Final.total_amt>0) & \n",
    "    (Customer_Final.Qty>0)].groupby('Store_type').total_amt.sum().sort_values(ascending = False).head(1))"
   ]
  },
  {
   "cell_type": "markdown",
   "metadata": {},
   "source": [
    "#### Q8 total amount earned from the \"Electronics\" and \"Clothing\" categories from Flagship Stores\n"
   ]
  },
  {
   "cell_type": "code",
   "execution_count": 115,
   "metadata": {},
   "outputs": [
    {
     "name": "stdout",
     "output_type": "stream",
     "text": [
      "Total Amount Earned From Flagship Stores from Electronics and CLothing Categories \n",
      " 3408936.05\n"
     ]
    }
   ],
   "source": [
    "print('Total Amount Earned From Flagship Stores from Electronics and CLothing Categories \\n',\n",
    "Customer_Final[(Customer_Final.Store_type == 'Flagship store') & \n",
    " (Customer_Final.prod_cat.isin(['Clothing',\n",
    "            'Electronics']))].total_amt.sum())\n"
   ]
  },
  {
   "cell_type": "markdown",
   "metadata": {},
   "source": [
    "#### Q9 Total amount earned from \"Male\" customers under the \"Electronics\" category"
   ]
  },
  {
   "cell_type": "code",
   "execution_count": 133,
   "metadata": {},
   "outputs": [
    {
     "name": "stdout",
     "output_type": "stream",
     "text": [
      "Total Amount Earned From Male Customers from Electronics Category\n",
      " 5697629.73\n"
     ]
    }
   ],
   "source": [
    "print('Total Amount Earned From Male Customers from Electronics Category\\n',\n",
    "Customer_Final[(Customer_Final.Gender == 'M') & \n",
    " (Customer_Final.prod_cat == 'Electronics')].total_amt.sum())\n",
    "\n"
   ]
  },
  {
   "cell_type": "markdown",
   "metadata": {},
   "source": [
    "#### Q10 Customers have more than 10 unique transactions, after removing all transactions which have any negative amounts.\n"
   ]
  },
  {
   "cell_type": "code",
   "execution_count": 132,
   "metadata": {},
   "outputs": [
    {
     "name": "stdout",
     "output_type": "stream",
     "text": [
      "Customers Have More than 10 Unique Transactions\n",
      " 273014    11\n",
      "270803    11\n",
      "266794    11\n",
      "274227    11\n",
      "272741    11\n",
      "270535    11\n",
      "269225    10\n",
      "268408    10\n",
      "271834    10\n",
      "272286    10\n",
      "Name: customer_Id, dtype: int64\n"
     ]
    }
   ],
   "source": [
    "print('Customers Have More than 10 Unique Transactions\\n',\n",
    "      Customer_Final[Customer_Final.total_amt> 0].customer_Id.value_counts().sort_values(ascending = False).head(10))"
   ]
  },
  {
   "cell_type": "markdown",
   "metadata": {},
   "source": [
    "#### Q11 "
   ]
  },
  {
   "cell_type": "code",
   "execution_count": 135,
   "metadata": {},
   "outputs": [
    {
     "data": {
      "text/html": [
       "<div>\n",
       "<style scoped>\n",
       "    .dataframe tbody tr th:only-of-type {\n",
       "        vertical-align: middle;\n",
       "    }\n",
       "\n",
       "    .dataframe tbody tr th {\n",
       "        vertical-align: top;\n",
       "    }\n",
       "\n",
       "    .dataframe thead th {\n",
       "        text-align: right;\n",
       "    }\n",
       "</style>\n",
       "<table border=\"1\" class=\"dataframe\">\n",
       "  <thead>\n",
       "    <tr style=\"text-align: right;\">\n",
       "      <th></th>\n",
       "      <th>transaction_id</th>\n",
       "      <th>tran_date</th>\n",
       "      <th>prod_cat_code</th>\n",
       "      <th>Qty</th>\n",
       "      <th>Rate</th>\n",
       "      <th>Tax</th>\n",
       "      <th>total_amt</th>\n",
       "      <th>Store_type</th>\n",
       "      <th>customer_Id</th>\n",
       "      <th>DOB</th>\n",
       "      <th>Gender</th>\n",
       "      <th>city_code</th>\n",
       "      <th>prod_cat</th>\n",
       "      <th>prod_sub_cat_code</th>\n",
       "      <th>prod_subcat</th>\n",
       "    </tr>\n",
       "  </thead>\n",
       "  <tbody>\n",
       "    <tr>\n",
       "      <th>0</th>\n",
       "      <td>80712190438</td>\n",
       "      <td>2014-02-28</td>\n",
       "      <td>1</td>\n",
       "      <td>-5</td>\n",
       "      <td>-772</td>\n",
       "      <td>405.300</td>\n",
       "      <td>-4265.300</td>\n",
       "      <td>e-Shop</td>\n",
       "      <td>270351</td>\n",
       "      <td>1981-09-26</td>\n",
       "      <td>M</td>\n",
       "      <td>5</td>\n",
       "      <td>Clothing</td>\n",
       "      <td>1</td>\n",
       "      <td>Women</td>\n",
       "    </tr>\n",
       "    <tr>\n",
       "      <th>1</th>\n",
       "      <td>80712190438</td>\n",
       "      <td>2014-02-20</td>\n",
       "      <td>1</td>\n",
       "      <td>5</td>\n",
       "      <td>772</td>\n",
       "      <td>405.300</td>\n",
       "      <td>4265.300</td>\n",
       "      <td>e-Shop</td>\n",
       "      <td>270351</td>\n",
       "      <td>1981-09-26</td>\n",
       "      <td>M</td>\n",
       "      <td>5</td>\n",
       "      <td>Clothing</td>\n",
       "      <td>1</td>\n",
       "      <td>Women</td>\n",
       "    </tr>\n",
       "    <tr>\n",
       "      <th>2</th>\n",
       "      <td>18505840838</td>\n",
       "      <td>2013-12-16</td>\n",
       "      <td>1</td>\n",
       "      <td>3</td>\n",
       "      <td>1229</td>\n",
       "      <td>387.135</td>\n",
       "      <td>4074.135</td>\n",
       "      <td>Flagship store</td>\n",
       "      <td>271509</td>\n",
       "      <td>1981-06-08</td>\n",
       "      <td>M</td>\n",
       "      <td>3</td>\n",
       "      <td>Clothing</td>\n",
       "      <td>1</td>\n",
       "      <td>Women</td>\n",
       "    </tr>\n",
       "    <tr>\n",
       "      <th>3</th>\n",
       "      <td>92814475704</td>\n",
       "      <td>2013-08-16</td>\n",
       "      <td>1</td>\n",
       "      <td>-4</td>\n",
       "      <td>-284</td>\n",
       "      <td>119.280</td>\n",
       "      <td>-1255.280</td>\n",
       "      <td>Flagship store</td>\n",
       "      <td>267750</td>\n",
       "      <td>1986-10-13</td>\n",
       "      <td>M</td>\n",
       "      <td>1</td>\n",
       "      <td>Clothing</td>\n",
       "      <td>1</td>\n",
       "      <td>Women</td>\n",
       "    </tr>\n",
       "    <tr>\n",
       "      <th>4</th>\n",
       "      <td>92814475704</td>\n",
       "      <td>2013-07-08</td>\n",
       "      <td>1</td>\n",
       "      <td>4</td>\n",
       "      <td>284</td>\n",
       "      <td>119.280</td>\n",
       "      <td>1255.280</td>\n",
       "      <td>Flagship store</td>\n",
       "      <td>267750</td>\n",
       "      <td>1986-10-13</td>\n",
       "      <td>M</td>\n",
       "      <td>1</td>\n",
       "      <td>Clothing</td>\n",
       "      <td>1</td>\n",
       "      <td>Women</td>\n",
       "    </tr>\n",
       "  </tbody>\n",
       "</table>\n",
       "</div>"
      ],
      "text/plain": [
       "  transaction_id  tran_date prod_cat_code  Qty  Rate      Tax  total_amt  \\\n",
       "0    80712190438 2014-02-28             1   -5  -772  405.300  -4265.300   \n",
       "1    80712190438 2014-02-20             1    5   772  405.300   4265.300   \n",
       "2    18505840838 2013-12-16             1    3  1229  387.135   4074.135   \n",
       "3    92814475704 2013-08-16             1   -4  -284  119.280  -1255.280   \n",
       "4    92814475704 2013-07-08             1    4   284  119.280   1255.280   \n",
       "\n",
       "       Store_type customer_Id        DOB Gender city_code  prod_cat  \\\n",
       "0          e-Shop      270351 1981-09-26      M         5  Clothing   \n",
       "1          e-Shop      270351 1981-09-26      M         5  Clothing   \n",
       "2  Flagship store      271509 1981-06-08      M         3  Clothing   \n",
       "3  Flagship store      267750 1986-10-13      M         1  Clothing   \n",
       "4  Flagship store      267750 1986-10-13      M         1  Clothing   \n",
       "\n",
       "  prod_sub_cat_code prod_subcat  \n",
       "0                 1       Women  \n",
       "1                 1       Women  \n",
       "2                 1       Women  \n",
       "3                 1       Women  \n",
       "4                 1       Women  "
      ]
     },
     "execution_count": 135,
     "metadata": {},
     "output_type": "execute_result"
    }
   ],
   "source": [
    "Customer_Final.head()"
   ]
  },
  {
   "cell_type": "code",
   "execution_count": 154,
   "metadata": {},
   "outputs": [
    {
     "name": "stderr",
     "output_type": "stream",
     "text": [
      "C:\\Users\\arora\\anaconda3\\lib\\site-packages\\ipykernel_launcher.py:1: FutureWarning: The pandas.datetime class is deprecated and will be removed from pandas in a future version. Import from datetime module instead.\n",
      "  \"\"\"Entry point for launching an IPython kernel.\n"
     ]
    },
    {
     "data": {
      "text/html": [
       "<div>\n",
       "<style scoped>\n",
       "    .dataframe tbody tr th:only-of-type {\n",
       "        vertical-align: middle;\n",
       "    }\n",
       "\n",
       "    .dataframe tbody tr th {\n",
       "        vertical-align: top;\n",
       "    }\n",
       "\n",
       "    .dataframe thead th {\n",
       "        text-align: right;\n",
       "    }\n",
       "</style>\n",
       "<table border=\"1\" class=\"dataframe\">\n",
       "  <thead>\n",
       "    <tr style=\"text-align: right;\">\n",
       "      <th></th>\n",
       "      <th>transaction_id</th>\n",
       "      <th>tran_date</th>\n",
       "      <th>prod_cat_code</th>\n",
       "      <th>Qty</th>\n",
       "      <th>Rate</th>\n",
       "      <th>Tax</th>\n",
       "      <th>total_amt</th>\n",
       "      <th>Store_type</th>\n",
       "      <th>customer_Id</th>\n",
       "      <th>DOB</th>\n",
       "      <th>Gender</th>\n",
       "      <th>city_code</th>\n",
       "      <th>prod_cat</th>\n",
       "      <th>prod_sub_cat_code</th>\n",
       "      <th>prod_subcat</th>\n",
       "      <th>age</th>\n",
       "    </tr>\n",
       "  </thead>\n",
       "  <tbody>\n",
       "    <tr>\n",
       "      <th>0</th>\n",
       "      <td>80712190438</td>\n",
       "      <td>2014-02-28</td>\n",
       "      <td>1</td>\n",
       "      <td>-5</td>\n",
       "      <td>-772</td>\n",
       "      <td>405.300</td>\n",
       "      <td>-4265.300</td>\n",
       "      <td>e-Shop</td>\n",
       "      <td>270351</td>\n",
       "      <td>1981-09-26</td>\n",
       "      <td>M</td>\n",
       "      <td>5</td>\n",
       "      <td>Clothing</td>\n",
       "      <td>1</td>\n",
       "      <td>Women</td>\n",
       "      <td>40</td>\n",
       "    </tr>\n",
       "    <tr>\n",
       "      <th>1</th>\n",
       "      <td>80712190438</td>\n",
       "      <td>2014-02-20</td>\n",
       "      <td>1</td>\n",
       "      <td>5</td>\n",
       "      <td>772</td>\n",
       "      <td>405.300</td>\n",
       "      <td>4265.300</td>\n",
       "      <td>e-Shop</td>\n",
       "      <td>270351</td>\n",
       "      <td>1981-09-26</td>\n",
       "      <td>M</td>\n",
       "      <td>5</td>\n",
       "      <td>Clothing</td>\n",
       "      <td>1</td>\n",
       "      <td>Women</td>\n",
       "      <td>40</td>\n",
       "    </tr>\n",
       "    <tr>\n",
       "      <th>2</th>\n",
       "      <td>18505840838</td>\n",
       "      <td>2013-12-16</td>\n",
       "      <td>1</td>\n",
       "      <td>3</td>\n",
       "      <td>1229</td>\n",
       "      <td>387.135</td>\n",
       "      <td>4074.135</td>\n",
       "      <td>Flagship store</td>\n",
       "      <td>271509</td>\n",
       "      <td>1981-06-08</td>\n",
       "      <td>M</td>\n",
       "      <td>3</td>\n",
       "      <td>Clothing</td>\n",
       "      <td>1</td>\n",
       "      <td>Women</td>\n",
       "      <td>40</td>\n",
       "    </tr>\n",
       "    <tr>\n",
       "      <th>3</th>\n",
       "      <td>92814475704</td>\n",
       "      <td>2013-08-16</td>\n",
       "      <td>1</td>\n",
       "      <td>-4</td>\n",
       "      <td>-284</td>\n",
       "      <td>119.280</td>\n",
       "      <td>-1255.280</td>\n",
       "      <td>Flagship store</td>\n",
       "      <td>267750</td>\n",
       "      <td>1986-10-13</td>\n",
       "      <td>M</td>\n",
       "      <td>1</td>\n",
       "      <td>Clothing</td>\n",
       "      <td>1</td>\n",
       "      <td>Women</td>\n",
       "      <td>35</td>\n",
       "    </tr>\n",
       "    <tr>\n",
       "      <th>4</th>\n",
       "      <td>92814475704</td>\n",
       "      <td>2013-07-08</td>\n",
       "      <td>1</td>\n",
       "      <td>4</td>\n",
       "      <td>284</td>\n",
       "      <td>119.280</td>\n",
       "      <td>1255.280</td>\n",
       "      <td>Flagship store</td>\n",
       "      <td>267750</td>\n",
       "      <td>1986-10-13</td>\n",
       "      <td>M</td>\n",
       "      <td>1</td>\n",
       "      <td>Clothing</td>\n",
       "      <td>1</td>\n",
       "      <td>Women</td>\n",
       "      <td>35</td>\n",
       "    </tr>\n",
       "  </tbody>\n",
       "</table>\n",
       "</div>"
      ],
      "text/plain": [
       "  transaction_id  tran_date prod_cat_code  Qty  Rate      Tax  total_amt  \\\n",
       "0    80712190438 2014-02-28             1   -5  -772  405.300  -4265.300   \n",
       "1    80712190438 2014-02-20             1    5   772  405.300   4265.300   \n",
       "2    18505840838 2013-12-16             1    3  1229  387.135   4074.135   \n",
       "3    92814475704 2013-08-16             1   -4  -284  119.280  -1255.280   \n",
       "4    92814475704 2013-07-08             1    4   284  119.280   1255.280   \n",
       "\n",
       "       Store_type customer_Id        DOB Gender city_code  prod_cat  \\\n",
       "0          e-Shop      270351 1981-09-26      M         5  Clothing   \n",
       "1          e-Shop      270351 1981-09-26      M         5  Clothing   \n",
       "2  Flagship store      271509 1981-06-08      M         3  Clothing   \n",
       "3  Flagship store      267750 1986-10-13      M         1  Clothing   \n",
       "4  Flagship store      267750 1986-10-13      M         1  Clothing   \n",
       "\n",
       "  prod_sub_cat_code prod_subcat  age  \n",
       "0                 1       Women   40  \n",
       "1                 1       Women   40  \n",
       "2                 1       Women   40  \n",
       "3                 1       Women   35  \n",
       "4                 1       Women   35  "
      ]
     },
     "execution_count": 154,
     "metadata": {},
     "output_type": "execute_result"
    }
   ],
   "source": [
    "#Calculating Age Column\n",
    "Customer_Final[\"age\"] = Customer_Final[\"DOB\"].apply(lambda x : (pd.datetime.now().year - x.year))\n",
    "Customer_Final.head()"
   ]
  },
  {
   "cell_type": "code",
   "execution_count": 171,
   "metadata": {},
   "outputs": [
    {
     "name": "stdout",
     "output_type": "stream",
     "text": [
      "Total Amount Spent for “Electronics” and “Books” product categories\n",
      " 7041794.824999999\n"
     ]
    }
   ],
   "source": [
    "# 1 total amount spent for “Electronics” and “Books” product categories\n",
    "print('Total Amount Spent for “Electronics” and “Books” product categories\\n',\n",
    "      Customer_Final[(Customer_Final.age.between(25,35))&\n",
    "                     (Customer_Final.prod_cat.isin(['Electronics','Books']))].total_amt.sum())"
   ]
  },
  {
   "cell_type": "code",
   "execution_count": 175,
   "metadata": {},
   "outputs": [
    {
     "name": "stdout",
     "output_type": "stream",
     "text": [
      "Total amount spent by customers between 1st Jan, 2014 to 1st Mar, 2014 \n",
      " 495898.585\n"
     ]
    }
   ],
   "source": [
    "#2 Total amount spent by customers between 1st Jan, 2014 to 1st Mar, 2014\n",
    "start  = pd.to_datetime('2014-1-1')\n",
    "end = pd.to_datetime('2014-03-01')\n",
    "print('Total amount spent by customers between 1st Jan, 2014 to 1st Mar, 2014 \\n',\n",
    "      Customer_Final[(Customer_Final.age.between(25,35))&\n",
    "                     (Customer_Final.tran_date.between(start,end))].total_amt.sum())"
   ]
  }
 ],
 "metadata": {
  "kernelspec": {
   "display_name": "Python 3",
   "language": "python",
   "name": "python3"
  },
  "language_info": {
   "codemirror_mode": {
    "name": "ipython",
    "version": 3
   },
   "file_extension": ".py",
   "mimetype": "text/x-python",
   "name": "python",
   "nbconvert_exporter": "python",
   "pygments_lexer": "ipython3",
   "version": "3.7.6"
  }
 },
 "nbformat": 4,
 "nbformat_minor": 4
}
